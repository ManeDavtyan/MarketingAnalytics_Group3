{
 "cells": [
  {
   "cell_type": "markdown",
   "id": "3a6de454-e1a0-4c0b-9baf-26e51f6d62ac",
   "metadata": {
    "editable": true,
    "slideshow": {
     "slide_type": "slide"
    },
    "tags": []
   },
   "source": [
    "# DS223 - Marketing Analytics - Group Project\n",
    "`bookrecs` recommendation model\n",
    "  \n",
    "Group3:\n",
    "- Mane Davtyan\n",
    "- Gor Mkrtchyan\n",
    "- Inna Krmoyan\n",
    "- Irena Torosyan\n",
    "- Sona Hakobyan"
   ]
  },
  {
   "cell_type": "markdown",
   "id": "c6efbe77-a3a4-403d-8f0a-930b8379c3cd",
   "metadata": {
    "editable": true,
    "slideshow": {
     "slide_type": "slide"
    },
    "tags": []
   },
   "source": [
    "## Introduction\n",
    "Enhancing Book Sellers' Capabilities in Armenia\n",
    "\n",
    "Developing an advanced book recommendation system for Bookinist/Zangak to address the absence of comprehensive recommendation systems, improve customer engagement, and boost competitiveness in the market."
   ]
  },
  {
   "cell_type": "markdown",
   "id": "7d85bdaf-0b39-47cf-97ba-ca3a53e8fee9",
   "metadata": {
    "editable": true,
    "slideshow": {
     "slide_type": "slide"
    },
    "tags": []
   },
   "source": [
    "## Problem Statement\n",
    "Challenges:\n",
    "\n",
    "* Absence of Recommendation Systems\n",
    "* Customer Engagement\n",
    "*  Competitiveness\n",
    "\n",
    "  \n",
    "**Current Situation**: Lack of tailored book recommendations affecting sales and customer satisfaction.\n",
    "\n",
    "**Solution**: Develop an advanced recommendation system to overcome these challenges."
   ]
  },
  {
   "cell_type": "markdown",
   "id": "4a4e9bfa-2b97-4ef4-841b-e29bdba60e2a",
   "metadata": {
    "editable": true,
    "slideshow": {
     "slide_type": "slide"
    },
    "tags": []
   },
   "source": [
    "## Project Objectives\n",
    "\n",
    "Primary Objective: Develop an advanced recommendation system for Bookinist and Zangak.\n",
    "\n",
    "**Key Steps**:\n",
    "- Data Gathering/Generation\n",
    "- Data Analysis\n",
    "- Characterizing Books Based on Various Features\n",
    "- Model Selection\n",
    "- API Development"
   ]
  },
  {
   "cell_type": "markdown",
   "id": "1d8e7f0e-70c7-46d1-a312-c3de03a5e8a8",
   "metadata": {
    "editable": true,
    "slideshow": {
     "slide_type": "slide"
    },
    "tags": []
   },
   "source": [
    "## Data/Database\n",
    "\n",
    "**Data Utilization**: Freedom to create a customized database.\n",
    "\n",
    "**Script Example**: Demonstrates how to create a database using CSV files.\n",
    "\n",
    "**Flexibility**: Users can use their own data sets for database creation."
   ]
  },
  {
   "cell_type": "markdown",
   "id": "47b0427c-24c8-4d96-acd9-60365c5cfcc8",
   "metadata": {
    "editable": true,
    "slideshow": {
     "slide_type": "slide"
    },
    "tags": []
   },
   "source": [
    "### bookrecs.db\n",
    "The script below create a BookStore.db using the data folder's csv files and the bookstore package. You can provide any csv files you have, want, need. As a result, BookStore.db is going to be created, which will later be used in book recomendation process. Data scraping and generating can be done using data_generator.ipynb and/or data_scraping.ipynb files, or whatever data the user wants to utilize"
   ]
  },
  {
   "cell_type": "code",
   "execution_count": null,
   "id": "86a856f8-b365-44e3-84ff-4db001d9350e",
   "metadata": {
    "editable": true,
    "slideshow": {
     "slide_type": "subslide"
    },
    "tags": []
   },
   "outputs": [],
   "source": [
    "#pip install bookrecs==1.1.3"
   ]
  },
  {
   "cell_type": "code",
   "execution_count": 1,
   "id": "ee0a0490-49e6-4c1a-932a-080a962b9110",
   "metadata": {
    "editable": true,
    "slideshow": {
     "slide_type": "subslide"
    },
    "tags": []
   },
   "outputs": [],
   "source": [
    "from bookrecs import db\n",
    "import pandas as pd\n",
    "\n",
    "authors = pd.read_csv(\".//data//authors.csv\")\n",
    "books = pd.read_csv(\".//data//books.csv\")\n",
    "customers = pd.read_csv(\".//data//customers.csv\")\n",
    "inventory= pd.read_csv(\".//data//inventory.csv\")\n",
    "orderitem = pd.read_csv(\".//data//orderitem.csv\")\n",
    "orders = pd.read_csv(\".//data//orders.csv\")\n",
    "publishers = pd.read_csv(\".//data//publishers.csv\")\n",
    "\n",
    "db.schema.create_database(authors, books, customers, inventory, orderitem, orders, publishers)\n"
   ]
  },
  {
   "cell_type": "markdown",
   "id": "e192a8a4-6b10-449d-8a67-d7e8afb25527",
   "metadata": {
    "editable": true,
    "slideshow": {
     "slide_type": "slide"
    },
    "tags": []
   },
   "source": [
    "## API Interface\n",
    "\n",
    "**API Package**: Intuitive interface for customers and bookstore owners.\n",
    "\n",
    "**Methods**:\n",
    "- GET is for retrieving data.\n",
    "- PUT is for updating or creating a resource.\n",
    "- POST is for submitting data to create a new resource.\n",
    "\n",
    "**Integration**: API seamlessly connected to the recommendation model for real-time book suggestions.\n",
    "\n",
    "**Swagger Dashboard**: Provides a user-friendly environment for easy interaction with the API."
   ]
  },
  {
   "cell_type": "markdown",
   "id": "c8396067-b19c-4f89-9fda-38ce430bee61",
   "metadata": {
    "editable": true,
    "slideshow": {
     "slide_type": "slide"
    },
    "tags": []
   },
   "source": [
    "### bookrecs.api\n",
    "The following subpackage of our main, bookstore, package, is responsible for API development and representation. By the script below, you can connect to the BookStore.db created above, and open the Swagger to later use it. The Swagger includes GET, POST, PUT and GET (for recommendation) methods. By using them you can get any book's info by title, update the book's price by providing the title, and even creating a new book. The Swagger also gives opportunity for the user to get live book recommendation based on his/her inputted book title."
   ]
  },
  {
   "cell_type": "code",
   "execution_count": 4,
   "id": "1f93376e-2bfd-4de5-90ae-6c0818fd2678",
   "metadata": {
    "editable": true,
    "slideshow": {
     "slide_type": "subslide"
    },
    "tags": []
   },
   "outputs": [],
   "source": [
    "from bookrecs.api.api import app\n",
    "\n",
    "if __name__ == \"__main__\":\n",
    "    import uvicorn\n",
    "\n",
    "    uvicorn.run(app, host=\"127.0.0.1\", port=8000)\n"
   ]
  },
  {
   "cell_type": "markdown",
   "id": "398f323b-8b3d-45c6-85aa-98480393640a",
   "metadata": {
    "editable": true,
    "slideshow": {
     "slide_type": "subslide"
    },
    "tags": []
   },
   "source": [
    "By running the run.py, you will see the following message in your terminal.\n",
    "\n",
    "- `INFO:     Started server process [5792]`\n",
    "- `INFO:     Waiting for application startup.`\n",
    "- `INFO:     Application startup complete.`\n",
    "- `INFO:     Uvicorn running on http://127.0.0.1:8000 (Press CTRL+C to quit)`\n",
    "\n",
    "\n",
    "Press the link, it will forward you to a webpage, where specify /docs at the end of the URL (just like this http://127.0.0.1:8000/docs). The Swagger will magically open; you can use all the methods in real-time. "
   ]
  },
  {
   "cell_type": "markdown",
   "id": "81602652-f010-478e-9b00-6792b0ec51b2",
   "metadata": {
    "editable": true,
    "slideshow": {
     "slide_type": "slide"
    },
    "tags": []
   },
   "source": [
    "## Model - Matrix Factorization\n",
    "\n",
    "**Techniques Used**:\n",
    "- Cosine Similarity for Titles\n",
    "- Author Matching\n",
    "- Genre and High Rating Matching"
   ]
  },
  {
   "cell_type": "markdown",
   "id": "5ed9fa46-3626-471a-af7b-eea74959d039",
   "metadata": {
    "editable": true,
    "slideshow": {
     "slide_type": "slide"
    },
    "tags": []
   },
   "source": [
    "**Functionality**:\n",
    "- Takes a book title as input\n",
    "- Utilizes SQLite database to fetch book data\n",
    "- Recommends five new books based on:\n",
    "    - Similar Titles\n",
    "    - Same Author\n",
    "    - Same Genre and High Rating\n",
    "    \n",
    "**User Interaction**: \n",
    "- Users input a book title, and the system responds with five recommended books based on:\n",
    "    - Similar Titles\n",
    "    - Same Author\n",
    "    - Same Genre and High Rating"
   ]
  },
  {
   "cell_type": "markdown",
   "id": "ea51b5e8-94ea-468c-a189-54ff82d4687b",
   "metadata": {
    "editable": true,
    "slideshow": {
     "slide_type": "slide"
    },
    "tags": []
   },
   "source": [
    "### bookrecs.model\n",
    "The model subpackage is responsible for book recommendation. Using the cosine similarities of vectorized tokens, it makes sure that each inserted book gets 5 book recommendations. The model subpackage has a connection to api connection also, since the Swagger has GET recommendation, which works directly with the model subpackage. This gives the user an opportunity to interactively recieve book recommendations by just interting the title of desired book. "
   ]
  },
  {
   "cell_type": "code",
   "execution_count": 5,
   "id": "195cb874-7920-46e8-844f-c94232db58ef",
   "metadata": {
    "editable": true,
    "slideshow": {
     "slide_type": "subslide"
    },
    "tags": []
   },
   "outputs": [
    {
     "name": "stdin",
     "output_type": "stream",
     "text": [
      "Enter a book title:  Թունավոր գրիչով ձեռքը\n"
     ]
    },
    {
     "data": {
      "text/html": [
       "<div>\n",
       "<style scoped>\n",
       "    .dataframe tbody tr th:only-of-type {\n",
       "        vertical-align: middle;\n",
       "    }\n",
       "\n",
       "    .dataframe tbody tr th {\n",
       "        vertical-align: top;\n",
       "    }\n",
       "\n",
       "    .dataframe thead th {\n",
       "        text-align: right;\n",
       "    }\n",
       "</style>\n",
       "<table border=\"1\" class=\"dataframe\">\n",
       "  <thead>\n",
       "    <tr style=\"text-align: right;\">\n",
       "      <th></th>\n",
       "      <th>book_id</th>\n",
       "      <th>title</th>\n",
       "      <th>price</th>\n",
       "      <th>isbn</th>\n",
       "      <th>publication_year</th>\n",
       "      <th>language</th>\n",
       "      <th>cover_type</th>\n",
       "      <th>pages_number</th>\n",
       "      <th>genre</th>\n",
       "      <th>rating</th>\n",
       "      <th>author_id</th>\n",
       "      <th>publisher_id</th>\n",
       "      <th>inputted_book</th>\n",
       "    </tr>\n",
       "  </thead>\n",
       "  <tbody>\n",
       "    <tr>\n",
       "      <th>0</th>\n",
       "      <td>1</td>\n",
       "      <td>Դառը ծովը</td>\n",
       "      <td>5800.0</td>\n",
       "      <td>9789939884943</td>\n",
       "      <td>2023.0</td>\n",
       "      <td>Armenian</td>\n",
       "      <td>Hard</td>\n",
       "      <td>336.0</td>\n",
       "      <td>Non-Fiction</td>\n",
       "      <td>0.5</td>\n",
       "      <td>1</td>\n",
       "      <td>1</td>\n",
       "      <td>Թունավոր գրիչով ձեռքը</td>\n",
       "    </tr>\n",
       "    <tr>\n",
       "      <th>1</th>\n",
       "      <td>2</td>\n",
       "      <td>Աշխարհի պատմությունը 10½ գլուխներով</td>\n",
       "      <td>5990.0</td>\n",
       "      <td>9789939980256</td>\n",
       "      <td>2023.0</td>\n",
       "      <td>Armenian</td>\n",
       "      <td>Hard</td>\n",
       "      <td>480.0</td>\n",
       "      <td>Science Fiction</td>\n",
       "      <td>2.5</td>\n",
       "      <td>2</td>\n",
       "      <td>2</td>\n",
       "      <td>Թունավոր գրիչով ձեռքը</td>\n",
       "    </tr>\n",
       "    <tr>\n",
       "      <th>2</th>\n",
       "      <td>3</td>\n",
       "      <td>Ալ տառը</td>\n",
       "      <td>4990.0</td>\n",
       "      <td>9789939980140</td>\n",
       "      <td>2023.0</td>\n",
       "      <td>Armenian</td>\n",
       "      <td>Ultrathin</td>\n",
       "      <td>280.0</td>\n",
       "      <td>Fiction</td>\n",
       "      <td>4.5</td>\n",
       "      <td>3</td>\n",
       "      <td>2</td>\n",
       "      <td>Թունավոր գրիչով ձեռքը</td>\n",
       "    </tr>\n",
       "    <tr>\n",
       "      <th>3</th>\n",
       "      <td>4</td>\n",
       "      <td>Լուսնաքարը</td>\n",
       "      <td>5990.0</td>\n",
       "      <td>9789939980089</td>\n",
       "      <td>2023.0</td>\n",
       "      <td>Armenian</td>\n",
       "      <td>Hard</td>\n",
       "      <td>656.0</td>\n",
       "      <td>Non-Fiction</td>\n",
       "      <td>4.9</td>\n",
       "      <td>4</td>\n",
       "      <td>2</td>\n",
       "      <td>Թունավոր գրիչով ձեռքը</td>\n",
       "    </tr>\n",
       "    <tr>\n",
       "      <th>4</th>\n",
       "      <td>5</td>\n",
       "      <td>«Ծիածանը» և ․․․</td>\n",
       "      <td>8400.0</td>\n",
       "      <td>9789939113852</td>\n",
       "      <td>2023.0</td>\n",
       "      <td>Armenian</td>\n",
       "      <td>Hard</td>\n",
       "      <td>168.0</td>\n",
       "      <td>Romance</td>\n",
       "      <td>2.2</td>\n",
       "      <td>5</td>\n",
       "      <td>3</td>\n",
       "      <td>Թունավոր գրիչով ձեռքը</td>\n",
       "    </tr>\n",
       "  </tbody>\n",
       "</table>\n",
       "</div>"
      ],
      "text/plain": [
       "   book_id                                title   price           isbn  \\\n",
       "0        1                            Դառը ծովը  5800.0  9789939884943   \n",
       "1        2  Աշխարհի պատմությունը 10½ գլուխներով  5990.0  9789939980256   \n",
       "2        3                              Ալ տառը  4990.0  9789939980140   \n",
       "3        4                           Լուսնաքարը  5990.0  9789939980089   \n",
       "4        5                      «Ծիածանը» և ․․․  8400.0  9789939113852   \n",
       "\n",
       "   publication_year  language cover_type  pages_number            genre  \\\n",
       "0            2023.0  Armenian       Hard         336.0      Non-Fiction   \n",
       "1            2023.0  Armenian       Hard         480.0  Science Fiction   \n",
       "2            2023.0  Armenian  Ultrathin         280.0          Fiction   \n",
       "3            2023.0  Armenian       Hard         656.0      Non-Fiction   \n",
       "4            2023.0  Armenian       Hard         168.0          Romance   \n",
       "\n",
       "   rating  author_id  publisher_id          inputted_book  \n",
       "0     0.5          1             1  Թունավոր գրիչով ձեռքը  \n",
       "1     2.5          2             2  Թունավոր գրիչով ձեռքը  \n",
       "2     4.5          3             2  Թունավոր գրիչով ձեռքը  \n",
       "3     4.9          4             2  Թունավոր գրիչով ձեռքը  \n",
       "4     2.2          5             3  Թունավոր գրիչով ձեռքը  "
      ]
     },
     "execution_count": 5,
     "metadata": {},
     "output_type": "execute_result"
    }
   ],
   "source": [
    "from bookrecs.model import model\n",
    "db_path = './/BookStore.db'\n",
    "title_to_recommend = input(\"Enter a book title: \")\n",
    "recommendations = model.get_combined_recommendations(title_to_recommend, db_path)\n",
    "\n",
    "recommendations"
   ]
  },
  {
   "cell_type": "markdown",
   "id": "b0e20f55-ad97-4dff-aac0-aaf96f4d7144",
   "metadata": {
    "editable": true,
    "slideshow": {
     "slide_type": "slide"
    },
    "tags": []
   },
   "source": [
    "## Goals\n",
    "\n",
    "**Marketing Integration**: Integrate the recommendation system into Bookinist's and Zangak's marketing efforts for suggesting new releases, promotions, and special offers.\n",
    "\n",
    "**Customer Feedback Integration**: Collect and analyze customer feedback for continuous improvement of the recommendation algorithm and book inventory."
   ]
  },
  {
   "cell_type": "markdown",
   "id": "bd9e7c6f-f665-42a3-a865-27d940c36ffb",
   "metadata": {
    "editable": true,
    "slideshow": {
     "slide_type": "slide"
    },
    "tags": []
   },
   "source": [
    "## Conclusion\n",
    "\n",
    "**Project Significance**: Addressing the lack of recommendation systems for Armenian book sellers.\n",
    "\n",
    "**Objectives Achievement**: Increase sales, improve customer engagement, and enhance competitiveness in the Armenian book market.\n",
    "\n",
    "**API Enhancements**: The FastAPI-based API provides robust functionality for interacting with the book database, updating book details, creating new entries, and fetching recommendations seamlessly. This integration contributes to a comprehensive book recommendation system for Bookinist and Zangak.\n",
    "\n",
    "**Model Enhancement**: The Matrix Factorization Model provides personalized recommendations based on titles, authors, and genres, contributing to a more robust and tailored book recommendation system."
   ]
  },
  {
   "cell_type": "markdown",
   "id": "bf960fa7-cd3c-41d4-8eda-096792b49766",
   "metadata": {
    "editable": true,
    "slideshow": {
     "slide_type": "slide"
    },
    "tags": []
   },
   "source": [
    "## Package Accessibility\n",
    "Our Book Recommendation Package is readily accessible on the Python Package Index (PyPI).\n",
    "\n",
    "Visit https://pypi.org/project/bookrecs/1.1.3/ to explore the features and integrate it into your applications."
   ]
  },
  {
   "cell_type": "markdown",
   "id": "8504af9f-f7d3-4e80-915e-b47605794f14",
   "metadata": {
    "editable": true,
    "slideshow": {
     "slide_type": "slide"
    },
    "tags": []
   },
   "source": [
    "# Thank You!"
   ]
  }
 ],
 "metadata": {
  "kernelspec": {
   "display_name": "Python 3",
   "language": "python",
   "name": "python3"
  },
  "language_info": {
   "codemirror_mode": {
    "name": "ipython",
    "version": 3
   },
   "file_extension": ".py",
   "mimetype": "text/x-python",
   "name": "python",
   "nbconvert_exporter": "python",
   "pygments_lexer": "ipython3",
   "version": "3.8.8"
  },
  "toc": {
   "base_numbering": 0
  }
 },
 "nbformat": 4,
 "nbformat_minor": 5
}
