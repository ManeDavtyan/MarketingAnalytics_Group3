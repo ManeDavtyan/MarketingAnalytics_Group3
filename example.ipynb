{
 "cells": [
  {
   "cell_type": "markdown",
   "id": "7b61209d-7915-43c5-a30b-c71fbfdcee78",
   "metadata": {},
   "source": [
    "# bookstore.db\n",
    "The script below create a BookStore.db using the data folder's csv files and the *bookstore* package. You can provide any csv files you have, want, need. As a result, BookStore.db is going to be created, which will later be used in book recomendation process. Data scraping and generating can be done using data_generator.ipynb and/or data_scraping.ipynb files, or whatever data the user wants to utilize."
   ]
  },
  {
   "cell_type": "code",
   "execution_count": 4,
   "id": "427eddc2-7899-4d5b-b577-5d57d3b35f94",
   "metadata": {},
   "outputs": [],
   "source": [
    "from bookstore import db\n",
    "import pandas as pd\n",
    "\n",
    "authors = pd.read_csv(\".//data//authors.csv\")\n",
    "books = pd.read_csv(\".//data//books.csv\")\n",
    "customers = pd.read_csv(\".//data//customers.csv\")\n",
    "inventory= pd.read_csv(\".//data//inventory.csv\")\n",
    "orderitem = pd.read_csv(\".//data//orderitem.csv\")\n",
    "orders = pd.read_csv(\".//data//orders.csv\")\n",
    "publishers = pd.read_csv(\".//data//publishers.csv\")\n",
    "\n",
    "db.schema.create_database(authors, books, customers, inventory, orderitem, orders, publishers)\n"
   ]
  },
  {
   "cell_type": "markdown",
   "id": "937e9893-746c-4bae-b4f9-5bbcd14c7c98",
   "metadata": {},
   "source": [
    "# bookstore.api\n",
    "The following subpackage of our main, bookstore, package, is responsible for API development and representation. By the script below, you can connect to the BookStore.db created above, and open the Swagger to later use it. The Swagger includes GET, POST, PUT and GET (for recommendation) methods. By using them you can get any book's info by title, update the book's price by providing the title, and even creating a new book. The Swagger also gives opportunity for the user to get live book recommendation based on his/her inputted book title."
   ]
  },
  {
   "cell_type": "markdown",
   "id": "7baf4c28-802c-4174-88af-8dfd0da0cfbe",
   "metadata": {},
   "source": [
    "By running the run.py, you will see the following message in your terminal.\n",
    "\n",
    "- `INFO:     Started server process [5792]`\n",
    "- `INFO:     Waiting for application startup.`\n",
    "- `INFO:     Application startup complete.`\n",
    "- `INFO:     Uvicorn running on http://127.0.0.1:8000 (Press CTRL+C to quit)`\n",
    "\n",
    "\n",
    "Press the link, it will forward you to a webpage, where specify /docs at the end of the URL (just like this http://127.0.0.1:8000/docs). The Swagger will magically open; you can use all the methods in real-time. "
   ]
  },
  {
   "cell_type": "code",
   "execution_count": null,
   "id": "20e11ec6-c379-43e3-96db-653ca6e691e3",
   "metadata": {},
   "outputs": [],
   "source": [
    "from bookstore.api.api import app\n",
    "\n",
    "if __name__ == \"__main__\":\n",
    "    import uvicorn\n",
    "\n",
    "    uvicorn.run(app, host=\"127.0.0.1\", port=8000)"
   ]
  },
  {
   "cell_type": "markdown",
   "id": "a1e0f815-cd11-4fb7-a318-89268340476b",
   "metadata": {},
   "source": [
    "# bookstore.model\n",
    "The model subpackage is responsible for book recommendation. Using the cosine similarities of vectorized tokens, it makes sure that each inserted book gets 5 book recommendations. The model subpackage has a connection to api connection also, since the Swagger has GET recommendation, which works directly with the model subpackage. This gives the user an opportunity to interactively recieve book recommendations by just interting the title of desired book. "
   ]
  },
  {
   "cell_type": "code",
   "execution_count": 2,
   "id": "331a054f-1161-4a27-a272-3b9a4fbe7c64",
   "metadata": {},
   "outputs": [],
   "source": [
    "from bookstore.model import model\n",
    "db_path = './/BookStore.db'\n",
    "title_to_recommend = input(\"Enter a book title: \")\n",
    "recommendations = model.get_combined_recommendations(title_to_recommend, db_path)\n",
    "\n",
    "print(recommendations)"
   ]
  }
 ],
 "metadata": {
  "kernelspec": {
   "display_name": "Python 3",
   "language": "python",
   "name": "python3"
  },
  "language_info": {
   "codemirror_mode": {
    "name": "ipython",
    "version": 3
   },
   "file_extension": ".py",
   "mimetype": "text/x-python",
   "name": "python",
   "nbconvert_exporter": "python",
   "pygments_lexer": "ipython3",
   "version": "3.8.8"
  }
 },
 "nbformat": 4,
 "nbformat_minor": 5
}
