{
 "cells": [
  {
   "cell_type": "markdown",
   "metadata": {},
   "source": [
    "## Loading modules and packages"
   ]
  },
  {
   "cell_type": "code",
   "execution_count": 2,
   "metadata": {},
   "outputs": [],
   "source": [
    "import os"
   ]
  },
  {
   "cell_type": "code",
   "execution_count": 27,
   "metadata": {},
   "outputs": [],
   "source": [
    "os.chdir(\"../bookstore/db/etl/data_preperation\")"
   ]
  },
  {
   "cell_type": "code",
   "execution_count": 16,
   "metadata": {},
   "outputs": [],
   "source": [
    "# from data_generator import generate_customer, generate_orders\n",
    "import pandas as pd\n",
    "import numpy as np\n",
    "import random\n",
    "from datetime import datetime, timedelta"
   ]
  },
  {
   "cell_type": "markdown",
   "metadata": {},
   "source": [
    "## Cleaning the scraped books.csv"
   ]
  },
  {
   "cell_type": "code",
   "execution_count": 2,
   "metadata": {},
   "outputs": [],
   "source": [
    "# Load the \"books.csv\" file into a Pandas DataFrame\n",
    "books_df = pd.read_csv(\"books.csv\")\n",
    "\n",
    "# Generate unique book IDs for each row\n",
    "books_df['book_id'] = range(1, len(books_df) + 1)\n",
    "\n",
    "# Drop the \"Age License\" column\n",
    "books_df = books_df.drop(\"Age License\", axis=1)\n",
    "\n",
    "# Define a function to extract the numeric value from the 'price' column\n",
    "def extract_numeric_price(price_str):\n",
    "    try:\n",
    "        # Split the string by space and take the first part (the numeric value)\n",
    "        numeric_part = price_str.split()[0]\n",
    "        # Convert the numeric part to a float\n",
    "        numeric_value = float(numeric_part)\n",
    "        return numeric_value\n",
    "    except:\n",
    "        # If conversion fails, return None\n",
    "        return None\n",
    "\n",
    "# Apply the function to convert the 'price' column\n",
    "books_df['Price'] = books_df['Price'].apply(extract_numeric_price)"
   ]
  },
  {
   "cell_type": "code",
   "execution_count": 15,
   "metadata": {},
   "outputs": [],
   "source": [
    "books_df = pd.read_csv(\"C:/Users/Gor Mkrtchyan/OneDrive/Desktop/Marketing_Analytics_Group3/data/books.csv\")"
   ]
  },
  {
   "cell_type": "code",
   "execution_count": 17,
   "metadata": {},
   "outputs": [],
   "source": [
    "genres = ['Fiction', 'Non-Fiction', 'Mystery', 'Science Fiction', 'Fantasy', 'Romance', 'Thriller', 'Biography', 'History', 'Self-Help']\n",
    "\n",
    "books_df['Genre'] = np.random.choice(genres, size=len(books_df))\n",
    "books_df['Rating'] = np.round(np.random.uniform(0, 5, size=len(books_df)), 1)"
   ]
  },
  {
   "cell_type": "code",
   "execution_count": 23,
   "metadata": {},
   "outputs": [],
   "source": [
    "# Save the updated DataFrame back to the \"books.csv\" file\n",
    "books_df.to_csv(\"C:/Users/Gor Mkrtchyan/OneDrive/Desktop/Marketing_Analytics_Group3/data/books.csv\", index=False)"
   ]
  },
  {
   "cell_type": "markdown",
   "metadata": {},
   "source": [
    "## Extracting Authors Data from Scraped books.csv"
   ]
  },
  {
   "cell_type": "code",
   "execution_count": 3,
   "metadata": {},
   "outputs": [],
   "source": [
    "# Create a DataFrame for the \"Authors\" table with unique author names\n",
    "authors_df = pd.DataFrame({'full_name': books_df['Author'].unique()})\n",
    "\n",
    "# Add an 'Author_ID' column with unique values\n",
    "authors_df['author_id'] = range(1, len(authors_df) + 1)\n",
    "\n",
    "# Save the \"Authors\" DataFrame to a new CSV file\n",
    "authors_df.to_csv(\"authors.csv\", index=False)"
   ]
  },
  {
   "cell_type": "markdown",
   "metadata": {},
   "source": [
    "## Extracting Publishers Data from Scraped books.csv"
   ]
  },
  {
   "cell_type": "code",
   "execution_count": 4,
   "metadata": {},
   "outputs": [],
   "source": [
    "# Create a DataFrame for the \"Publishers\" table with unique author names\n",
    "publishers_df = pd.DataFrame({'name': books_df['Publisher'].unique()})\n",
    "\n",
    "# Add an 'Publisher_ID' column with unique values\n",
    "publishers_df['publisher_id'] = range(1, len(publishers_df) + 1)\n",
    "\n",
    "# Save the \"Publishers\" DataFrame to a new CSV file\n",
    "publishers_df.to_csv(\"publishers.csv\", index=False)"
   ]
  },
  {
   "cell_type": "markdown",
   "metadata": {},
   "source": [
    "## Changing the Names of Authors and Publishers to IDs in books.csv"
   ]
  },
  {
   "cell_type": "code",
   "execution_count": 6,
   "metadata": {},
   "outputs": [],
   "source": [
    "books_df = pd.read_csv(\"books.csv\")\n",
    "authors_df = pd.read_csv(\"authors.csv\")\n",
    "publishers_df = pd.read_csv(\"publishers.csv\")\n",
    "\n",
    "# Perform the mapping of Author and Publisher columns to their respective IDs\n",
    "\n",
    "books_df = books_df.merge(authors_df, left_on=\"Author\", right_on=\"full_name\", how=\"left\")\n",
    "books_df = books_df.merge(publishers_df, left_on=\"Publisher\", right_on=\"name\", how=\"left\")\n",
    "\n",
    "# Dropping the necessary columns\n",
    "\n",
    "books_df.drop(columns=[\"Author\",\"Publisher\", \"full_name\", \"name\"], inplace=True)\n",
    "\n",
    "# Renaming the columns\n",
    "\n",
    "books_df.rename(columns={\n",
    "    \"Title\": \"title\",\n",
    "    \"Price\": \"price\",\n",
    "    \"ISBN\": \"isbn\",\n",
    "    \"Publishing Year\": \"publication_year\",\n",
    "    \"Language\": \"language\",\n",
    "    \"Cover Type\": \"cover_type\",\n",
    "    \"Pages Number\": \"pages_number\"\n",
    "}, inplace=True)\n",
    "\n",
    "books_df.to_csv(\"books.csv\", index=False)"
   ]
  },
  {
   "cell_type": "markdown",
   "metadata": {},
   "source": [
    "## Creating and Generating data for the Inventory Table"
   ]
  },
  {
   "cell_type": "code",
   "execution_count": 7,
   "metadata": {},
   "outputs": [],
   "source": [
    "books_df = pd.read_csv(\"books.csv\")\n",
    "\n",
    "# Create an \"Inventory\" DataFrame with the \"book_id\" column from \"books.csv\"\n",
    "inventory_df = pd.DataFrame({'book_id': books_df['book_id']})\n",
    "\n",
    "# Generate random values for the \"stocklevel_used\" and \"stocklevel_new\" columns\n",
    "inventory_df['stocklevel_used'] = [random.randint(0, 100) for _ in range(len(inventory_df))]\n",
    "inventory_df['stocklevel_new'] = [random.randint(0, 100) for _ in range(len(inventory_df))]\n",
    "\n",
    "# Save the \"Inventory\" DataFrame to a new CSV file\n",
    "inventory_df.to_csv(\"Inventory.csv\", index=False)"
   ]
  },
  {
   "cell_type": "markdown",
   "metadata": {},
   "source": [
    "## Generating Customer Data"
   ]
  },
  {
   "cell_type": "code",
   "execution_count": 8,
   "metadata": {},
   "outputs": [],
   "source": [
    "NUMBER_OF_CUSTOMERS=2500\n",
    "\n",
    "customer_data = [generate_customer(customer_id) for customer_id in range(NUMBER_OF_CUSTOMERS)] \n",
    "pd.DataFrame(customer_data).to_csv('customers.csv', index=False)"
   ]
  },
  {
   "cell_type": "markdown",
   "metadata": {},
   "source": [
    "## Creating and Generating data for the OrderItem Table"
   ]
  },
  {
   "cell_type": "code",
   "execution_count": 9,
   "metadata": {},
   "outputs": [],
   "source": [
    "books_df = pd.read_csv(\"books.csv\")\n",
    "\n",
    "# Generate 4000 unique order IDs\n",
    "unique_order_ids = [str(i) for i in range(1, 4001)]\n",
    "\n",
    "# Generate 2000 random order IDs ensuring at least one occurrence of each unique order ID\n",
    "remaining_order_ids = random.choices(unique_order_ids, k=2000)\n",
    "order_ids = unique_order_ids + remaining_order_ids\n",
    "\n",
    "# Shuffle the order IDs to randomize the order\n",
    "random.shuffle(order_ids)\n",
    "\n",
    "# Create the \"OrderItem\" DataFrame\n",
    "order_item_df = pd.DataFrame({'order_id': order_ids})\n",
    "\n",
    "# Select random book IDs from the \"books.csv\" file\n",
    "order_item_df['book_id'] = random.choices(books_df['book_id'], k=6000)\n",
    "\n",
    "# Generate random quantities (1-3)\n",
    "order_item_df['quantity'] = [random.randint(1, 3) for _ in range(6000)]\n",
    "\n",
    "# Assign the book's price to the \"price\" column based on the selected book_id\n",
    "order_item_df['price'] = order_item_df['book_id'].apply(\n",
    "    lambda book_id: books_df.loc[books_df['book_id'] == book_id, 'price'].values[0]\n",
    ")\n",
    "\n",
    "# Save the \"OrderItem\" DataFrame to a new CSV file\n",
    "order_item_df.to_csv(\"OrderItem.csv\", index=False)"
   ]
  },
  {
   "cell_type": "markdown",
   "metadata": {},
   "source": [
    "## Creating and Generating data for the Orders Table"
   ]
  },
  {
   "cell_type": "code",
   "execution_count": 11,
   "metadata": {},
   "outputs": [],
   "source": [
    "order_item_df = pd.read_csv(\"OrderItem.csv\")\n",
    "customers_df = pd.read_csv(\"customers.csv\")\n",
    "\n",
    "# Function to generate a random date between two dates\n",
    "def random_date(start_date, end_date):\n",
    "    days_diff = (end_date - start_date).days\n",
    "    random_days = random.randint(0, days_diff)\n",
    "    return start_date + timedelta(days=random_days)\n",
    "\n",
    "# Define the date range for order_date\n",
    "start_date = datetime(2022, 1, 1)\n",
    "end_date = datetime(2023, 10, 28)\n",
    "\n",
    "# Create the \"Orders\" DataFrame\n",
    "orders_df = pd.DataFrame()\n",
    "\n",
    "# Generate unique order IDs based on the \"OrderItem.csv\" file\n",
    "orders_df['order_id'] = order_item_df['order_id'].unique()\n",
    "\n",
    "# Randomly select customer IDs from the \"customers.csv\" file\n",
    "orders_df['customer_id'] = random.choices(customers_df['customer_id'], k=len(orders_df))\n",
    "\n",
    "# Generate random order dates between 01.01.2022 and 28.10.2023\n",
    "orders_df['order_date'] = [random_date(start_date, end_date) for _ in range(len(orders_df))]\n",
    "\n",
    "# Calculate the subtotal by grouping \"OrderItem.csv\" by \"order_id\" and summing \"quantity * price\"\n",
    "subtotal_df = order_item_df.groupby('order_id')['quantity'].sum().reset_index()\n",
    "subtotal_df = subtotal_df.rename(columns={'quantity': 'total_quantity'})\n",
    "subtotal_df = subtotal_df.merge(order_item_df.groupby('order_id')['price'].mean().reset_index(), on='order_id')\n",
    "\n",
    "orders_df = orders_df.merge(subtotal_df, on='order_id', how='left')\n",
    "orders_df['subtotal'] = orders_df['total_quantity'] * orders_df['price']\n",
    "\n",
    "# Generate random shipping costs between 500 and 2000\n",
    "orders_df['shipping'] = [random.randint(500, 2000) for _ in range(len(orders_df))]\n",
    "\n",
    "# Calculate the total by summing the subtotal and shipping\n",
    "orders_df['total'] = orders_df['subtotal'] + orders_df['shipping']\n",
    "\n",
    "# Dropping the necessary columns\n",
    "orders_df.drop(columns=[\"total_quantity\",\"price\"], inplace=True)\n",
    "\n",
    "# Save the \"Orders\" DataFrame to a new CSV file\n",
    "orders_df.to_csv(\"Orders.csv\", index=False)"
   ]
  },
  {
   "cell_type": "markdown",
   "metadata": {},
   "source": []
  }
 ],
 "metadata": {
  "kernelspec": {
   "display_name": "Python 3",
   "language": "python",
   "name": "python3"
  },
  "language_info": {
   "codemirror_mode": {
    "name": "ipython",
    "version": 3
   },
   "file_extension": ".py",
   "mimetype": "text/x-python",
   "name": "python",
   "nbconvert_exporter": "python",
   "pygments_lexer": "ipython3",
   "version": "3.9.7"
  }
 },
 "nbformat": 4,
 "nbformat_minor": 2
}
